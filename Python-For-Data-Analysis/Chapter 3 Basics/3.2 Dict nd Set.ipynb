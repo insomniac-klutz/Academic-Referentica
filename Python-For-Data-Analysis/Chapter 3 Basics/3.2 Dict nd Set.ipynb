{
 "cells": [
  {
   "cell_type": "markdown",
   "metadata": {},
   "source": [
    "<h1 align=\"center\"> Set and Dict in Python Version 0.0 </h1>"
   ]
  },
  {
   "cell_type": "markdown",
   "metadata": {},
   "source": [
    "<b> Creation of Dict : Normal Method</b>"
   ]
  },
  {
   "cell_type": "code",
   "execution_count": 1,
   "metadata": {},
   "outputs": [
    {
     "name": "stdout",
     "output_type": "stream",
     "text": [
      "{1: 5, 2: 4, 3: 3, 4: 2, 5: 1}\n"
     ]
    }
   ],
   "source": [
    "map={}\n",
    "keyl=[1,2,3,4,5]\n",
    "valuel=[5,4,3,2,1]\n",
    "\n",
    "for key,value in zip(keyl,valuel):\n",
    "    map[key]=value\n",
    "    \n",
    "print(map)"
   ]
  },
  {
   "cell_type": "markdown",
   "metadata": {},
   "source": [
    "<b> Accesing Dict </b>"
   ]
  },
  {
   "cell_type": "code",
   "execution_count": 2,
   "metadata": {},
   "outputs": [
    {
     "name": "stdout",
     "output_type": "stream",
     "text": [
      "4\n",
      "{2: 4, 3: 3, 4: 2, 5: 1}\n",
      "3\n"
     ]
    }
   ],
   "source": [
    "print(map[2])\n",
    "\n",
    "map.pop(1)\n",
    "print(map)\n",
    "\n",
    "#default value column is optional\n",
    "value=map.pop(9,3)\n",
    "print(value)"
   ]
  },
  {
   "cell_type": "markdown",
   "metadata": {},
   "source": [
    "<b> Creation of Dict : Using DefaultDict </b>"
   ]
  },
  {
   "cell_type": "code",
   "execution_count": 3,
   "metadata": {},
   "outputs": [
    {
     "name": "stdout",
     "output_type": "stream",
     "text": [
      "defaultdict(<class 'list'>, {'s': ['sanky', 'superstar'], 'd': ['dude'], 'b': ['bro'], 'y': ['yo']})\n"
     ]
    }
   ],
   "source": [
    "words=['sanky','dude','bro','yo','superstar']\n",
    "from collections import defaultdict \n",
    "by_letter = defaultdict(list)\n",
    "for word in words:    \n",
    "    by_letter[word[0]].append(word)\n",
    "print(by_letter)"
   ]
  },
  {
   "cell_type": "markdown",
   "metadata": {},
   "source": [
    "<b> Checking Validity of a key </b>"
   ]
  },
  {
   "cell_type": "code",
   "execution_count": 4,
   "metadata": {},
   "outputs": [
    {
     "data": {
      "text/plain": [
       "1"
      ]
     },
     "execution_count": 4,
     "metadata": {},
     "output_type": "execute_result"
    }
   ],
   "source": [
    "hash(1)"
   ]
  },
  {
   "cell_type": "markdown",
   "metadata": {},
   "source": [
    "<b> Creation of Set and Set Operations</b>"
   ]
  },
  {
   "cell_type": "code",
   "execution_count": 5,
   "metadata": {},
   "outputs": [
    {
     "name": "stdout",
     "output_type": "stream",
     "text": [
      "{1, 2, 3, 4, 5, 6, 7, 8, 9}\n",
      "{4, 5}\n",
      "{1, 2, 3}\n",
      "{1, 2, 3, 6, 7, 8, 9}\n"
     ]
    }
   ],
   "source": [
    "a=set([1,2,3,4,5])\n",
    "b={9,8,7,4,6,5}\n",
    "c=a|b\n",
    "print(c)\n",
    "c=a&b\n",
    "print(c)\n",
    "c=a-b\n",
    "print(c)\n",
    "c=a^b\n",
    "print(c)"
   ]
  },
  {
   "cell_type": "markdown",
   "metadata": {},
   "source": [
    "<b> Set Commands</b>"
   ]
  },
  {
   "cell_type": "code",
   "execution_count": 6,
   "metadata": {},
   "outputs": [
    {
     "name": "stdout",
     "output_type": "stream",
     "text": [
      "False\n",
      "False\n",
      "False\n"
     ]
    }
   ],
   "source": [
    "print(a.issubset(b))\n",
    "print(a.issuperset(b))\n",
    "print(a.isdisjoint(b))"
   ]
  },
  {
   "cell_type": "code",
   "execution_count": null,
   "metadata": {},
   "outputs": [],
   "source": []
  }
 ],
 "metadata": {
  "kernelspec": {
   "display_name": "Python 3",
   "language": "python",
   "name": "python3"
  },
  "language_info": {
   "codemirror_mode": {
    "name": "ipython",
    "version": 3
   },
   "file_extension": ".py",
   "mimetype": "text/x-python",
   "name": "python",
   "nbconvert_exporter": "python",
   "pygments_lexer": "ipython3",
   "version": "3.7.6"
  }
 },
 "nbformat": 4,
 "nbformat_minor": 4
}
