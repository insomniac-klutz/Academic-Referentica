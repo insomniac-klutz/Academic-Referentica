{
 "cells": [
  {
   "cell_type": "markdown",
   "metadata": {},
   "source": [
    "<h1 align=\"center\"> Functions | Errors | Exceptions in Python </h1>"
   ]
  },
  {
   "cell_type": "markdown",
   "metadata": {},
   "source": [
    "<b> Exotic Properties of Python Functions</b>"
   ]
  },
  {
   "cell_type": "code",
   "execution_count": 5,
   "metadata": {},
   "outputs": [
    {
     "name": "stdout",
     "output_type": "stream",
     "text": [
      "1 2 3\n",
      "(1, 2, 3)\n",
      "5\n"
     ]
    }
   ],
   "source": [
    "import re\n",
    "\n",
    "def general():\n",
    "    global p\n",
    "    p=5\n",
    "    a=1\n",
    "    b=2\n",
    "    c=3\n",
    "    return a,b,c\n",
    "\n",
    "a,b,c=general()\n",
    "\n",
    "print(\"{} {} {}\".format(a,b,c))\n",
    "\n",
    "x=general()\n",
    "\n",
    "print(x)\n",
    "\n",
    "print(p)"
   ]
  },
  {
   "cell_type": "markdown",
   "metadata": {},
   "source": [
    "<b> Using function list as arguement and cleaning striings using re module</b>"
   ]
  },
  {
   "cell_type": "code",
   "execution_count": 8,
   "metadata": {},
   "outputs": [
    {
     "name": "stdout",
     "output_type": "stream",
     "text": [
      "['Sanky', 'Sankalp', 'Superstar']\n"
     ]
    }
   ],
   "source": [
    "def rem_punc(value):\n",
    "    return re.sub('[/?+]','',value)\n",
    "\n",
    "def clean_str(names,ops):\n",
    "    result=[]\n",
    "    for name in names:\n",
    "        for op in ops:\n",
    "            name=op(name)\n",
    "        result.append(name)\n",
    "    return result\n",
    "\n",
    "clean_ops=[str.title,str.strip,rem_punc]\n",
    "\n",
    "names=['sanky?','SanKalP','Superstar/']\n",
    "\n",
    "cleaned=clean_str(names,clean_ops)\n",
    "print(cleaned)"
   ]
  },
  {
   "cell_type": "markdown",
   "metadata": {},
   "source": [
    "<b>Using Lambda Func as a pseudo func object</b>"
   ]
  },
  {
   "cell_type": "code",
   "execution_count": 3,
   "metadata": {},
   "outputs": [
    {
     "name": "stdout",
     "output_type": "stream",
     "text": [
      "[2, 4, 6, 8, 10]\n"
     ]
    }
   ],
   "source": [
    "def list_modification(listin,func):\n",
    "    return(func(x)for x in listin)\n",
    "\n",
    "listin=[1,2,3,4,5]\n",
    "mod=list_modification(listin,lambda x:x*2)\n",
    "print(list(mod))"
   ]
  },
  {
   "cell_type": "markdown",
   "metadata": {},
   "source": [
    "<b> Lambda Func : Misc</b>"
   ]
  },
  {
   "cell_type": "code",
   "execution_count": 4,
   "metadata": {},
   "outputs": [
    {
     "name": "stdout",
     "output_type": "stream",
     "text": [
      "['aaaa', 'foo', 'fref', 'greg']\n"
     ]
    }
   ],
   "source": [
    "stringy=['foo','fref','greg','aaaa']\n",
    "stringy.sort(key=lambda x:len(set(list(x))))\n",
    "print(stringy)"
   ]
  },
  {
   "cell_type": "markdown",
   "metadata": {},
   "source": [
    "<b> Creation of new Python Functions using Currying</b>"
   ]
  },
  {
   "cell_type": "code",
   "execution_count": 9,
   "metadata": {},
   "outputs": [
    {
     "name": "stdout",
     "output_type": "stream",
     "text": [
      "23\n"
     ]
    }
   ],
   "source": [
    "def adder(x,y):\n",
    "    return x+y\n",
    "\n",
    "x=2\n",
    "add_21=lambda x:adder(21,x) #new function add_21 derived from adder using currying\n",
    "\n",
    "p=add_21(x)\n",
    "print(p)\n"
   ]
  },
  {
   "cell_type": "markdown",
   "metadata": {},
   "source": [
    "<b> Generators : Creation 1  </b>"
   ]
  },
  {
   "cell_type": "code",
   "execution_count": 28,
   "metadata": {},
   "outputs": [
    {
     "name": "stdout",
     "output_type": "stream",
     "text": [
      "100\n",
      "81\n",
      "64\n",
      "49\n",
      "36\n",
      "25\n",
      "16\n",
      "9\n",
      "4\n",
      "1\n"
     ]
    }
   ],
   "source": [
    "def squared(x):\n",
    "    i=x\n",
    "    while(i):\n",
    "        yield i**2\n",
    "        i-=1\n",
    "\n",
    "gen=squared(10)\n",
    "\n",
    "for x in gen:\n",
    "    print(x,end='\\n')"
   ]
  },
  {
   "cell_type": "markdown",
   "metadata": {},
   "source": [
    "<b> Generators : Creation 2  </b>"
   ]
  },
  {
   "cell_type": "code",
   "execution_count": 29,
   "metadata": {},
   "outputs": [
    {
     "name": "stdout",
     "output_type": "stream",
     "text": [
      "1\n",
      "4\n",
      "9\n",
      "16\n",
      "25\n"
     ]
    }
   ],
   "source": [
    "gen1=(x**2 for x in listin)\n",
    "\n",
    "for x in gen1:\n",
    "    print(x,end='\\n')\n",
    "\n"
   ]
  },
  {
   "cell_type": "markdown",
   "metadata": {},
   "source": [
    "<b> Try Except Block  </b>"
   ]
  },
  {
   "cell_type": "code",
   "execution_count": 35,
   "metadata": {},
   "outputs": [
    {
     "name": "stdout",
     "output_type": "stream",
     "text": [
      "error007\n",
      "7.0\n",
      "{1: 2}\n"
     ]
    }
   ],
   "source": [
    "def floater(x):\n",
    "    try:\n",
    "        return float(x)\n",
    "    except TypeError:\n",
    "        return x\n",
    "    except ValueError:\n",
    "        return x\n",
    "\n",
    "x=\"error007\"\n",
    "y=floater(x)\n",
    "print(y)\n",
    "\n",
    "x=\"007\"\n",
    "y=floater(x)\n",
    "print(y)\n",
    "\n",
    "x={1:2}\n",
    "y=floater(x)\n",
    "print(y)\n",
    "\n"
   ]
  },
  {
   "cell_type": "code",
   "execution_count": null,
   "metadata": {},
   "outputs": [],
   "source": []
  }
 ],
 "metadata": {
  "kernelspec": {
   "display_name": "Python 3",
   "language": "python",
   "name": "python3"
  },
  "language_info": {
   "codemirror_mode": {
    "name": "ipython",
    "version": 3
   },
   "file_extension": ".py",
   "mimetype": "text/x-python",
   "name": "python",
   "nbconvert_exporter": "python",
   "pygments_lexer": "ipython3",
   "version": "3.7.6"
  }
 },
 "nbformat": 4,
 "nbformat_minor": 4
}
