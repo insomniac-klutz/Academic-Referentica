{
 "cells": [
  {
   "cell_type": "markdown",
   "metadata": {},
   "source": [
    "<h1 align=\"center"
   ]
  },
  {
   "cell_type": "markdown",
   "metadata": {},
   "source": [
    "<h1 align=\"center\"> File I-O, Linear Algebra and Pseudorandom Number Generation with Arrays <h1>"
   ]
  },
  {
   "cell_type": "markdown",
   "metadata": {},
   "source": [
    "<b> File I-O</b>"
   ]
  },
  {
   "cell_type": "code",
   "execution_count": 1,
   "metadata": {},
   "outputs": [
    {
     "data": {
      "text/plain": [
       "array([ 0,  1,  2,  3,  4,  5,  6,  7,  8,  9, 10, 11, 12, 13, 14])"
      ]
     },
     "execution_count": 1,
     "metadata": {},
     "output_type": "execute_result"
    }
   ],
   "source": [
    "import numpy as np\n",
    "arr=np.arange(15)\n",
    "arr1=np.arange(21)\n",
    "np.savez('file1.npz',a=arr,b=arr1)\n",
    "zipp=np.load('file1.npz')\n",
    "zipp[\"a\"]"
   ]
  },
  {
   "cell_type": "code",
   "execution_count": 2,
   "metadata": {},
   "outputs": [
    {
     "data": {
      "text/plain": [
       "array([ 0,  1,  2,  3,  4,  5,  6,  7,  8,  9, 10, 11, 12, 13, 14, 15, 16,\n",
       "       17, 18, 19, 20])"
      ]
     },
     "execution_count": 2,
     "metadata": {},
     "output_type": "execute_result"
    }
   ],
   "source": [
    "np.savez_compressed('file2.npz',a=arr,b=arr1)\n",
    "zipp=np.load('file1.npz')\n",
    "zipp[\"b\"]"
   ]
  },
  {
   "cell_type": "markdown",
   "metadata": {},
   "source": [
    "<b> Matrix Operations</b>"
   ]
  },
  {
   "cell_type": "code",
   "execution_count": 4,
   "metadata": {},
   "outputs": [
    {
     "data": {
      "text/plain": [
       "array([[ 273,  294,  315],\n",
       "       [ 714,  784,  854],\n",
       "       [1155, 1274, 1393]])"
      ]
     },
     "execution_count": 4,
     "metadata": {},
     "output_type": "execute_result"
    }
   ],
   "source": [
    "x=np.arange(21).reshape(3,7)\n",
    "y=np.arange(21).reshape(7,3)\n",
    "x@y"
   ]
  },
  {
   "cell_type": "code",
   "execution_count": 5,
   "metadata": {},
   "outputs": [
    {
     "data": {
      "text/plain": [
       "array([[ 273,  294,  315],\n",
       "       [ 714,  784,  854],\n",
       "       [1155, 1274, 1393]])"
      ]
     },
     "execution_count": 5,
     "metadata": {},
     "output_type": "execute_result"
    }
   ],
   "source": [
    "x.dot(y)"
   ]
  },
  {
   "cell_type": "code",
   "execution_count": 6,
   "metadata": {},
   "outputs": [
    {
     "data": {
      "text/plain": [
       "array([[ 273,  294,  315],\n",
       "       [ 714,  784,  854],\n",
       "       [1155, 1274, 1393]])"
      ]
     },
     "execution_count": 6,
     "metadata": {},
     "output_type": "execute_result"
    }
   ],
   "source": [
    "np.dot(x,y)"
   ]
  },
  {
   "cell_type": "code",
   "execution_count": 33,
   "metadata": {},
   "outputs": [
    {
     "data": {
      "text/plain": [
       "(array([ 1.10691494e+02+0.00000000e+00j, -5.69149422e+00+0.00000000e+00j,\n",
       "        -2.12986244e-15+0.00000000e+00j,  4.84670913e-16+0.00000000e+00j,\n",
       "        -1.37196055e-16+8.48559671e-16j, -1.37196055e-16-8.48559671e-16j]),\n",
       " array([[-0.06671357+0.j        , -0.63270151+0.j        ,\n",
       "         -0.68999625+0.j        , -0.05227843+0.j        ,\n",
       "         -0.15390064+0.08665854j, -0.15390064-0.08665854j],\n",
       "        [-0.18278485+0.j        , -0.39467352+0.j        ,\n",
       "          0.55033974+0.j        , -0.13798534+0.j        ,\n",
       "         -0.05742334-0.23831675j, -0.05742334+0.23831675j],\n",
       "        [-0.29885614+0.j        , -0.15664552+0.j        ,\n",
       "          0.34358968+0.j        ,  0.703648  +0.j        ,\n",
       "          0.6042653 +0.j        ,  0.6042653 -0.j        ],\n",
       "        [-0.41492743+0.j        ,  0.08138247+0.j        ,\n",
       "          0.14812253+0.j        , -0.68417275+0.j        ,\n",
       "         -0.10745187+0.23498133j, -0.10745187-0.23498133j],\n",
       "        [-0.53099872+0.j        ,  0.31941047+0.j        ,\n",
       "         -0.0783918 +0.j        ,  0.07073501+0.j        ,\n",
       "         -0.59869563+0.05001166j, -0.59869563-0.05001166j],\n",
       "        [-0.64707001+0.j        ,  0.55743846+0.j        ,\n",
       "         -0.27366389+0.j        ,  0.10005352+0.j        ,\n",
       "          0.31320617-0.13333478j,  0.31320617+0.13333478j]]))"
      ]
     },
     "execution_count": 33,
     "metadata": {},
     "output_type": "execute_result"
    }
   ],
   "source": [
    "#from numpy.linalg import inv, qr, det\n",
    "\n",
    "x=np.arange(36).reshape(6,6)\n",
    "np.linalg.eig(x)\n"
   ]
  },
  {
   "cell_type": "code",
   "execution_count": 32,
   "metadata": {},
   "outputs": [
    {
     "data": {
      "text/plain": [
       "105"
      ]
     },
     "execution_count": 32,
     "metadata": {},
     "output_type": "execute_result"
    }
   ],
   "source": [
    "np.trace(x)"
   ]
  },
  {
   "cell_type": "code",
   "execution_count": 37,
   "metadata": {},
   "outputs": [
    {
     "data": {
      "text/plain": [
       "array([[-1.50119988e+14, -1.06666667e+00,  1.33333333e-01,\n",
       "        -2.00000000e+00,  7.50599938e+14, -6.00479950e+14],\n",
       "       [-6.60527945e+15, -9.00719925e+15,  9.00719925e+15,\n",
       "         1.80143985e+16,  6.00479950e+15, -1.74139186e+16],\n",
       "       [ 7.95635934e+15,  1.35107989e+16, -1.35107989e+16,\n",
       "        -2.25179981e+16, -8.25659932e+15,  2.28182381e+16],\n",
       "       [ 3.90311968e+15, -2.25179981e+15,  7.50000000e-01,\n",
       "        -4.50359963e+15, -1.50119988e+15,  4.35347964e+15],\n",
       "       [-4.50359963e+15,  2.50000000e-01,  4.50359963e+15,\n",
       "         4.50359963e+15, -3.33333333e-01, -4.50359963e+15],\n",
       "       [-6.00479950e+14, -2.25179981e+15,  7.50000000e-01,\n",
       "         4.50359963e+15,  3.00239975e+15, -4.65371961e+15]])"
      ]
     },
     "execution_count": 37,
     "metadata": {},
     "output_type": "execute_result"
    }
   ],
   "source": [
    "np.linalg.inv(x)"
   ]
  },
  {
   "cell_type": "code",
   "execution_count": 35,
   "metadata": {},
   "outputs": [
    {
     "data": {
      "text/plain": [
       "-4.3755576172461056e-61"
      ]
     },
     "execution_count": 35,
     "metadata": {},
     "output_type": "execute_result"
    }
   ],
   "source": [
    "np.linalg.det(x)"
   ]
  },
  {
   "cell_type": "markdown",
   "metadata": {},
   "source": [
    "<b> Pseudo-Random Number Generation</b>"
   ]
  },
  {
   "cell_type": "code",
   "execution_count": 40,
   "metadata": {},
   "outputs": [
    {
     "data": {
      "text/plain": [
       "array([[ 0.89601588, -1.23956804,  0.15973552, -0.8193865 ],\n",
       "       [-0.4125801 , -0.05369795,  0.80649762, -2.35875467],\n",
       "       [-0.64674802,  0.54779883, -1.6317303 , -0.09766283],\n",
       "       [ 0.26238177, -0.19788576,  0.71005183,  0.37965161]])"
      ]
     },
     "execution_count": 40,
     "metadata": {},
     "output_type": "execute_result"
    }
   ],
   "source": [
    "x=np.random.normal(size=(4,4))\n",
    "x"
   ]
  },
  {
   "cell_type": "code",
   "execution_count": 50,
   "metadata": {},
   "outputs": [
    {
     "data": {
      "text/plain": [
       "array([[ 0.94230022, 13.56215041,  6.44764609,  5.18076861],\n",
       "       [ 3.49661805,  0.40985728,  7.44343946,  5.43012624],\n",
       "       [ 6.49289593,  2.22767819,  2.17332118, 12.49672143],\n",
       "       [ 3.10686284,  6.90802428,  8.02812469, 16.26164455]])"
      ]
     },
     "execution_count": 50,
     "metadata": {},
     "output_type": "execute_result"
    }
   ],
   "source": [
    "x=np.random.chisquare(5,size=(4,4))\n",
    "x"
   ]
  },
  {
   "cell_type": "code",
   "execution_count": 51,
   "metadata": {},
   "outputs": [
    {
     "data": {
      "text/plain": [
       "array([[-0.72510257,  0.16887945, -0.3917834 ,  1.49476107],\n",
       "       [ 0.12655345, -0.20178787,  0.95626421,  0.81301348]])"
      ]
     },
     "execution_count": 51,
     "metadata": {},
     "output_type": "execute_result"
    }
   ],
   "source": [
    "x=np.random.randn(2,4)\n",
    "x"
   ]
  },
  {
   "cell_type": "code",
   "execution_count": 52,
   "metadata": {},
   "outputs": [
    {
     "data": {
      "text/plain": [
       "array([[0.44326782, 0.37207008, 0.92354473, 0.41366317],\n",
       "       [0.08320186, 0.18329646, 0.25797465, 0.23780831]])"
      ]
     },
     "execution_count": 52,
     "metadata": {},
     "output_type": "execute_result"
    }
   ],
   "source": [
    "x=np.random.rand(2,4)\n",
    "x"
   ]
  },
  {
   "cell_type": "code",
   "execution_count": 53,
   "metadata": {},
   "outputs": [
    {
     "data": {
      "text/plain": [
       "2"
      ]
     },
     "execution_count": 53,
     "metadata": {},
     "output_type": "execute_result"
    }
   ],
   "source": [
    "x=np.random.randint(2,4)\n",
    "x"
   ]
  },
  {
   "cell_type": "code",
   "execution_count": null,
   "metadata": {},
   "outputs": [],
   "source": []
  }
 ],
 "metadata": {
  "kernelspec": {
   "display_name": "Python 3",
   "language": "python",
   "name": "python3"
  },
  "language_info": {
   "codemirror_mode": {
    "name": "ipython",
    "version": 3
   },
   "file_extension": ".py",
   "mimetype": "text/x-python",
   "name": "python",
   "nbconvert_exporter": "python",
   "pygments_lexer": "ipython3",
   "version": "3.7.6"
  }
 },
 "nbformat": 4,
 "nbformat_minor": 4
}
