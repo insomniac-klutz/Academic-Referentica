{
 "cells": [
  {
   "cell_type": "markdown",
   "metadata": {},
   "source": [
    "<h1 align=\"center\"> Array Oriented Programming</h1>"
   ]
  },
  {
   "cell_type": "code",
   "execution_count": 1,
   "metadata": {},
   "outputs": [],
   "source": [
    "import numpy as np"
   ]
  },
  {
   "cell_type": "markdown",
   "metadata": {},
   "source": [
    "<b> Using meshgrid() to generate points located on a 2D graph</b>"
   ]
  },
  {
   "cell_type": "code",
   "execution_count": 2,
   "metadata": {},
   "outputs": [
    {
     "name": "stdout",
     "output_type": "stream",
     "text": [
      "[[-5 -4 -3 -2 -1  0  1  2  3  4]\n",
      " [-5 -4 -3 -2 -1  0  1  2  3  4]\n",
      " [-5 -4 -3 -2 -1  0  1  2  3  4]\n",
      " [-5 -4 -3 -2 -1  0  1  2  3  4]\n",
      " [-5 -4 -3 -2 -1  0  1  2  3  4]\n",
      " [-5 -4 -3 -2 -1  0  1  2  3  4]\n",
      " [-5 -4 -3 -2 -1  0  1  2  3  4]\n",
      " [-5 -4 -3 -2 -1  0  1  2  3  4]\n",
      " [-5 -4 -3 -2 -1  0  1  2  3  4]\n",
      " [-5 -4 -3 -2 -1  0  1  2  3  4]]\n",
      "\n",
      "\n",
      "[[-10 -10 -10 -10 -10 -10 -10 -10 -10 -10]\n",
      " [ -8  -8  -8  -8  -8  -8  -8  -8  -8  -8]\n",
      " [ -6  -6  -6  -6  -6  -6  -6  -6  -6  -6]\n",
      " [ -4  -4  -4  -4  -4  -4  -4  -4  -4  -4]\n",
      " [ -2  -2  -2  -2  -2  -2  -2  -2  -2  -2]\n",
      " [  0   0   0   0   0   0   0   0   0   0]\n",
      " [  2   2   2   2   2   2   2   2   2   2]\n",
      " [  4   4   4   4   4   4   4   4   4   4]\n",
      " [  6   6   6   6   6   6   6   6   6   6]\n",
      " [  8   8   8   8   8   8   8   8   8   8]]\n"
     ]
    }
   ],
   "source": [
    "arr=np.arange(-5,5,1)\n",
    "x,y=np.meshgrid(arr,arr*2)\n",
    "print(x)\n",
    "print(\"\\n\")\n",
    "print(y)"
   ]
  },
  {
   "cell_type": "markdown",
   "metadata": {},
   "source": [
    "<b> Using distance equation $\\sqrt{x^2 + y^2}$ for distance of a grid of values from (0,0) </b>"
   ]
  },
  {
   "cell_type": "code",
   "execution_count": 3,
   "metadata": {},
   "outputs": [
    {
     "data": {
      "text/plain": [
       "array([[11.18033989, 10.77032961, 10.44030651, 10.19803903, 10.04987562,\n",
       "        10.        , 10.04987562, 10.19803903, 10.44030651, 10.77032961],\n",
       "       [ 9.43398113,  8.94427191,  8.54400375,  8.24621125,  8.06225775,\n",
       "         8.        ,  8.06225775,  8.24621125,  8.54400375,  8.94427191],\n",
       "       [ 7.81024968,  7.21110255,  6.70820393,  6.32455532,  6.08276253,\n",
       "         6.        ,  6.08276253,  6.32455532,  6.70820393,  7.21110255],\n",
       "       [ 6.40312424,  5.65685425,  5.        ,  4.47213595,  4.12310563,\n",
       "         4.        ,  4.12310563,  4.47213595,  5.        ,  5.65685425],\n",
       "       [ 5.38516481,  4.47213595,  3.60555128,  2.82842712,  2.23606798,\n",
       "         2.        ,  2.23606798,  2.82842712,  3.60555128,  4.47213595],\n",
       "       [ 5.        ,  4.        ,  3.        ,  2.        ,  1.        ,\n",
       "         0.        ,  1.        ,  2.        ,  3.        ,  4.        ],\n",
       "       [ 5.38516481,  4.47213595,  3.60555128,  2.82842712,  2.23606798,\n",
       "         2.        ,  2.23606798,  2.82842712,  3.60555128,  4.47213595],\n",
       "       [ 6.40312424,  5.65685425,  5.        ,  4.47213595,  4.12310563,\n",
       "         4.        ,  4.12310563,  4.47213595,  5.        ,  5.65685425],\n",
       "       [ 7.81024968,  7.21110255,  6.70820393,  6.32455532,  6.08276253,\n",
       "         6.        ,  6.08276253,  6.32455532,  6.70820393,  7.21110255],\n",
       "       [ 9.43398113,  8.94427191,  8.54400375,  8.24621125,  8.06225775,\n",
       "         8.        ,  8.06225775,  8.24621125,  8.54400375,  8.94427191]])"
      ]
     },
     "execution_count": 3,
     "metadata": {},
     "output_type": "execute_result"
    }
   ],
   "source": [
    "z=np.sqrt(x**2+y**2)\n",
    "z"
   ]
  },
  {
   "cell_type": "code",
   "execution_count": 4,
   "metadata": {},
   "outputs": [],
   "source": [
    "%matplotlib inline"
   ]
  },
  {
   "cell_type": "code",
   "execution_count": 5,
   "metadata": {},
   "outputs": [
    {
     "data": {
      "text/plain": [
       "Text(0.5, 1.0, 'Image plot of $\\\\sqrt{x^2 + y^2}$ for a grid of values')"
      ]
     },
     "execution_count": 5,
     "metadata": {},
     "output_type": "execute_result"
    },
    {
     "data": {
      "image/png": "[encoded data removed]",
      "text/plain": [
       "<Figure size 432x288 with 2 Axes>"
      ]
     },
     "metadata": {
      "needs_background": "light"
     },
     "output_type": "display_data"
    }
   ],
   "source": [
    "import matplotlib.pyplot as plt\n",
    "\n",
    "plt.imshow(z, cmap=plt.cm.gray); plt.colorbar()\n",
    "\n",
    "plt.title(\"Image plot of $\\sqrt{x^2 + y^2}$ for a grid of values\")"
   ]
  },
  {
   "cell_type": "markdown",
   "metadata": {},
   "source": [
    "<b>where() command</b>"
   ]
  },
  {
   "cell_type": "code",
   "execution_count": 6,
   "metadata": {},
   "outputs": [
    {
     "name": "stdout",
     "output_type": "stream",
     "text": [
      "[[ 0.         -0.70909858  2.         -1.70932946  4.        ]\n",
      " [-1.51526916  6.         -1.33003294  8.          0.93906345]\n",
      " [10.          0.92604015 12.         -1.39400208 14.        ]]\n",
      "[[-21 -21 -21 -21  21]\n",
      " [-21 -21 -21  21  21]\n",
      " [-21  21 -21 -21 -21]]\n"
     ]
    }
   ],
   "source": [
    "xarr=np.arange(15).reshape(3,5)\n",
    "yarr=np.random.randn(3,5)\n",
    "z=np.where(xarr%2==0,xarr,yarr)\n",
    "print(z)\n",
    "p=np.where(yarr>0,21,-21)\n",
    "print(p)"
   ]
  },
  {
   "cell_type": "markdown",
   "metadata": {},
   "source": [
    "<b> Statistical functions on ndarray</b>"
   ]
  },
  {
   "cell_type": "code",
   "execution_count": 7,
   "metadata": {},
   "outputs": [
    {
     "name": "stdout",
     "output_type": "stream",
     "text": [
      "[[ 0  1  2  3  4]\n",
      " [ 5  6  7  8  9]\n",
      " [10 11 12 13 14]]\n"
     ]
    },
    {
     "data": {
      "text/plain": [
       "7.0"
      ]
     },
     "execution_count": 7,
     "metadata": {},
     "output_type": "execute_result"
    }
   ],
   "source": [
    "stats=np.arange(15).reshape(3,5)\n",
    "stats.ndim\n",
    "print(stats)\n",
    "stats.mean()"
   ]
  },
  {
   "cell_type": "code",
   "execution_count": 8,
   "metadata": {},
   "outputs": [
    {
     "data": {
      "text/plain": [
       "array([0, 1, 2, 3, 4])"
      ]
     },
     "execution_count": 8,
     "metadata": {},
     "output_type": "execute_result"
    }
   ],
   "source": [
    "stats.min(0)"
   ]
  },
  {
   "cell_type": "code",
   "execution_count": 9,
   "metadata": {},
   "outputs": [
    {
     "data": {
      "text/plain": [
       "array([4, 4, 4], dtype=int64)"
      ]
     },
     "execution_count": 9,
     "metadata": {},
     "output_type": "execute_result"
    }
   ],
   "source": [
    "stats.argmax(1)"
   ]
  },
  {
   "cell_type": "code",
   "execution_count": 10,
   "metadata": {},
   "outputs": [
    {
     "data": {
      "text/plain": [
       "18.666666666666668"
      ]
     },
     "execution_count": 10,
     "metadata": {},
     "output_type": "execute_result"
    }
   ],
   "source": [
    "stats.var()"
   ]
  },
  {
   "cell_type": "code",
   "execution_count": 11,
   "metadata": {},
   "outputs": [
    {
     "data": {
      "text/plain": [
       "4.320493798938574"
      ]
     },
     "execution_count": 11,
     "metadata": {},
     "output_type": "execute_result"
    }
   ],
   "source": [
    "stats.std()"
   ]
  },
  {
   "cell_type": "code",
   "execution_count": 12,
   "metadata": {},
   "outputs": [
    {
     "data": {
      "text/plain": [
       "array([  0,   1,   3,   6,  10,  15,  21,  28,  36,  45,  55,  66,  78,\n",
       "        91, 105], dtype=int32)"
      ]
     },
     "execution_count": 12,
     "metadata": {},
     "output_type": "execute_result"
    }
   ],
   "source": [
    "stats.cumsum()"
   ]
  },
  {
   "cell_type": "code",
   "execution_count": 13,
   "metadata": {},
   "outputs": [
    {
     "data": {
      "text/plain": [
       "array([[ 0,  1,  2,  3,  4],\n",
       "       [ 5,  7,  9, 11, 13],\n",
       "       [15, 18, 21, 24, 27]], dtype=int32)"
      ]
     },
     "execution_count": 13,
     "metadata": {},
     "output_type": "execute_result"
    }
   ],
   "source": [
    "stats.cumsum(0)"
   ]
  },
  {
   "cell_type": "markdown",
   "metadata": {},
   "source": [
    "<b> Operations on boolean arrays</b>"
   ]
  },
  {
   "cell_type": "code",
   "execution_count": 14,
   "metadata": {},
   "outputs": [
    {
     "name": "stdout",
     "output_type": "stream",
     "text": [
      "15\n"
     ]
    },
    {
     "data": {
      "text/plain": [
       "14"
      ]
     },
     "execution_count": 14,
     "metadata": {},
     "output_type": "execute_result"
    }
   ],
   "source": [
    "print(stats.size)\n",
    "(stats>0).sum()"
   ]
  },
  {
   "cell_type": "code",
   "execution_count": 15,
   "metadata": {},
   "outputs": [
    {
     "data": {
      "text/plain": [
       "True"
      ]
     },
     "execution_count": 15,
     "metadata": {},
     "output_type": "execute_result"
    }
   ],
   "source": [
    "(stats>0).any()"
   ]
  },
  {
   "cell_type": "code",
   "execution_count": 16,
   "metadata": {},
   "outputs": [
    {
     "data": {
      "text/plain": [
       "False"
      ]
     },
     "execution_count": 16,
     "metadata": {},
     "output_type": "execute_result"
    }
   ],
   "source": [
    "(stats>0).all()"
   ]
  },
  {
   "cell_type": "markdown",
   "metadata": {},
   "source": [
    "<b> Built in sort() and np.sort() on ndarray</b>"
   ]
  },
  {
   "cell_type": "code",
   "execution_count": 17,
   "metadata": {},
   "outputs": [
    {
     "name": "stdout",
     "output_type": "stream",
     "text": [
      "[[ 1.65939672  0.75778573  0.31414776 -0.15691489 -0.00276071 -0.35611175\n",
      "   0.64347229]\n",
      " [ 0.23024208 -0.44807328  0.12892946 -2.13412226  0.6141789   0.44213992\n",
      "  -0.37072809]\n",
      " [ 1.28867171  1.28174259 -1.34911144 -0.90845234  0.87275937  1.04429467\n",
      "  -0.24071964]]\n",
      "\n",
      "\n",
      "[[-0.35611175 -0.15691489 -0.00276071  0.31414776  0.64347229  0.75778573\n",
      "   1.65939672]\n",
      " [-2.13412226 -0.44807328 -0.37072809  0.12892946  0.23024208  0.44213992\n",
      "   0.6141789 ]\n",
      " [-1.34911144 -0.90845234 -0.24071964  0.87275937  1.04429467  1.28174259\n",
      "   1.28867171]]\n",
      "\n",
      "\n",
      "[[-1.45578133 -1.09958583 -0.40583858 -0.32889341 -0.31743775  0.66265946\n",
      "   1.96980648]\n",
      " [-4.21469392 -1.32536445 -0.97893223 -0.96316851 -0.39780442  0.35362149\n",
      "   0.4213006 ]\n",
      " [-1.58144505 -1.18718446 -0.40831139 -0.23398435 -0.15522569 -0.10632038\n",
      "   0.3878439 ]]\n",
      "\n",
      "\n",
      "[[-1.45578133 -1.09958583 -0.40583858 -0.32889341 -0.31743775  0.66265946\n",
      "   1.96980648]\n",
      " [-4.21469392 -1.32536445 -0.97893223 -0.96316851 -0.39780442  0.35362149\n",
      "   0.4213006 ]\n",
      " [-1.58144505 -1.18718446 -0.40831139 -0.23398435 -0.15522569 -0.10632038\n",
      "   0.3878439 ]]\n",
      "\n",
      "\n",
      "[[-1.45578133 -1.09958583 -0.40583858 -0.32889341 -0.31743775  0.66265946\n",
      "   1.96980648]\n",
      " [-4.21469392 -1.32536445 -0.97893223 -0.96316851 -0.39780442  0.35362149\n",
      "   0.4213006 ]\n",
      " [-1.58144505 -1.18718446 -0.40831139 -0.23398435 -0.15522569 -0.10632038\n",
      "   0.3878439 ]]\n",
      "\n",
      "\n"
     ]
    }
   ],
   "source": [
    "arr=np.random.randn(3,7)\n",
    "print(arr)\n",
    "print(\"\\n\")\n",
    "arr.sort()\n",
    "print(arr)\n",
    "print(\"\\n\")\n",
    "arr=np.random.randn(3,7)\n",
    "arr.sort(1)\n",
    "print(arr)\n",
    "print(\"\\n\")\n",
    "x=np.sort(arr)\n",
    "print(arr)\n",
    "print(\"\\n\")\n",
    "print(x)\n",
    "print(\"\\n\")\n"
   ]
  },
  {
   "cell_type": "markdown",
   "metadata": {},
   "source": [
    "<b> Set operations on ndarray</b>"
   ]
  },
  {
   "cell_type": "code",
   "execution_count": 18,
   "metadata": {},
   "outputs": [
    {
     "data": {
      "text/plain": [
       "array([1, 5, 8])"
      ]
     },
     "execution_count": 18,
     "metadata": {},
     "output_type": "execute_result"
    }
   ],
   "source": [
    "x=np.array([1,2,1,5,8])\n",
    "y=[4,5,1,8,9]\n",
    "np.unique(y)\n",
    "np.intersect1d(x,y)"
   ]
  },
  {
   "cell_type": "code",
   "execution_count": 19,
   "metadata": {},
   "outputs": [
    {
     "data": {
      "text/plain": [
       "array([1, 5, 8])"
      ]
     },
     "execution_count": 19,
     "metadata": {},
     "output_type": "execute_result"
    }
   ],
   "source": [
    "np.intersect1d(x,y)"
   ]
  },
  {
   "cell_type": "code",
   "execution_count": 20,
   "metadata": {},
   "outputs": [
    {
     "data": {
      "text/plain": [
       "array([2, 4, 9])"
      ]
     },
     "execution_count": 20,
     "metadata": {},
     "output_type": "execute_result"
    }
   ],
   "source": [
    "np.setxor1d(x,y)"
   ]
  },
  {
   "cell_type": "code",
   "execution_count": 21,
   "metadata": {},
   "outputs": [
    {
     "data": {
      "text/plain": [
       "array([ True, False,  True,  True,  True])"
      ]
     },
     "execution_count": 21,
     "metadata": {},
     "output_type": "execute_result"
    }
   ],
   "source": [
    "np.in1d(x,y)"
   ]
  },
  {
   "cell_type": "code",
   "execution_count": 22,
   "metadata": {},
   "outputs": [
    {
     "data": {
      "text/plain": [
       "array([-7.2519203 , -3.61213474, -1.7930822 , -1.52604627, -0.87046786,\n",
       "        0.90996057,  2.77895098])"
      ]
     },
     "execution_count": 22,
     "metadata": {},
     "output_type": "execute_result"
    }
   ],
   "source": [
    "x=np.sum(arr,0)\n",
    "x"
   ]
  },
  {
   "cell_type": "code",
   "execution_count": 23,
   "metadata": {},
   "outputs": [
    {
     "name": "stdout",
     "output_type": "stream",
     "text": [
      "[5 4 3 2 8]\n"
     ]
    }
   ],
   "source": [
    "arr=np.array([5,4,3,2,8])\n",
    "arr.cumsum()\n",
    "print(arr)"
   ]
  },
  {
   "cell_type": "code",
   "execution_count": null,
   "metadata": {},
   "outputs": [],
   "source": []
  }
 ],
 "metadata": {
  "kernelspec": {
   "display_name": "Python 3",
   "language": "python",
   "name": "python3"
  },
  "language_info": {
   "codemirror_mode": {
    "name": "ipython",
    "version": 3
   },
   "file_extension": ".py",
   "mimetype": "text/x-python",
   "name": "python",
   "nbconvert_exporter": "python",
   "pygments_lexer": "ipython3",
   "version": "3.7.6"
  }
 },
 "nbformat": 4,
 "nbformat_minor": 4
}
