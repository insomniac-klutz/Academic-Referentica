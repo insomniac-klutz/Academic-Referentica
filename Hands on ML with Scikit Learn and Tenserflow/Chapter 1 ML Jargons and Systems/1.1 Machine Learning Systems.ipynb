{
 "cells": [
  {
   "cell_type": "markdown",
   "metadata": {},
   "source": [
    "<h1 align=\"center\"> 1.1 Machine Learning Systems"
   ]
  },
  {
   "cell_type": "markdown",
   "metadata": {},
   "source": [
    "<b>I. Types of Machine Learning Systems"
   ]
  },
  {
   "cell_type": "markdown",
   "metadata": {},
   "source": [
    "    There  are  so  many  different  types  of  Machine  Learning  systems  that  it  is  useful  to classify them in \n",
    "    broad categories based on:\n",
    "\n",
    "      * Whether  or  not  they  are  trained  with  human  supervision  (supervised,  unsuper‐vised, semisupervised, \n",
    "        and Reinforcement Learning)  \n",
    "      * Whether  or  not  they  can  learn  incrementally  on  the  fly  (Incremental  versus  batchlearning)  \n",
    "      * Whether they work by comparing new data points to known data points,or instead detect patterns in the training \n",
    "        data and build a predictive model,much like scientists do(instance-based versus model-based learning)"
   ]
  },
  {
   "cell_type": "markdown",
   "metadata": {},
   "source": [
    "<b>A. Supervised vs Unsupervised Learning"
   ]
  },
  {
   "cell_type": "markdown",
   "metadata": {},
   "source": [
    "    There  are  four  major  categories:\n",
    "\n",
    "    * Supervised Learning\n",
    "    * Unsupervised Learning \n",
    "    * Semi-Supervised Learning \n",
    "    * Reinforcement Learning"
   ]
  },
  {
   "cell_type": "markdown",
   "metadata": {},
   "source": [
    "1. In supervised learning, the training data you feed to the algorithm includes the desired solutions, called labels.\n",
    "\n",
    "       Can be divided broadly into: \n",
    "   \n",
    "       Classification (Predict a discrete dependent variable)\n",
    "       Regression (Predict a continuous dependent variable)"
   ]
  },
  {
   "cell_type": "markdown",
   "metadata": {},
   "source": [
    "2. In   unsupervised   learning,   as   you   might   guess,   the   training   data   is   unlabeled.\n",
    "\n",
    "       Can be divided broadly into:\n",
    "                               \n",
    "       Clustering(Division of data into meaningful clusters) \n",
    "       Visualization and Dimensionality Reduction(simplify  the  data without losing too much information)\n",
    "       Anamoly Detection(Detecting unusual activity in data)\n",
    "       Association rule learning(dig into large amounts of data and discover interesting relations between features)"
   ]
  },
  {
   "cell_type": "markdown",
   "metadata": {},
   "source": [
    "3. Semi Supervised Learning \n",
    "    \n",
    "        Algorithms  can  deal  with  partially  labeled  training  data,  usually  a  lot  of  unla‐beled  data  and  \n",
    "        a little bit  of  labeled  data. Ex Google photos\n"
   ]
  },
  {
   "cell_type": "markdown",
   "metadata": {},
   "source": [
    "4. Reinforcement Learning. \n",
    "\n",
    "       The learning system, called an agent in  this  context,  can  observe  the  environment,  select  and  perform              actions and  get rewards in return.((or penalties in the form of negative rewards) \n",
    "       It must then learn  by itself  what  is  the  best  strategy,  called  a  policy,  to  get  the  most reward \n",
    "       over time.A policy defines what action the agent should choose when it is in agiven situation."
   ]
  },
  {
   "cell_type": "markdown",
   "metadata": {},
   "source": [
    "<b> B. Batch vs Incremental Learning"
   ]
  },
  {
   "cell_type": "markdown",
   "metadata": {},
   "source": [
    "<b>1. Batch Learning</b>\n",
    "\n",
    "        * In batch learning,the system is incapable of learning incrementally: it must be trained using all the available \n",
    "        data\n",
    "    \n",
    "        * Typically  done  offline\n",
    "    \n",
    "        * If  you  want  a  batch  learning  system  to  know  about  new  data,you need to train a new version of the \n",
    "        system from scratch on the full dataset"
   ]
  },
  {
   "cell_type": "markdown",
   "metadata": {},
   "source": [
    "<b>2. Incremental Learning </b>\n",
    "\n",
    "\n",
    "\n",
    "\n",
    "        * In  online  learning,  you  train  the  system  incrementally  by  feeding  it  data  instancessequentially, \n",
    "          either individually or by small groups called mini-batches. Each learningstep is fast and cheap, so the system \n",
    "          can learn about new data on the fly, as it arrives\n",
    "      \n",
    "        * Can be used for out-of-core  learning (train  systems  on  huge  datasets  thatcannot  fit  in  one  machine’s  \n",
    "          main memory)\n",
    "      \n",
    "        * One important parameter of online learning systems is how fast they should adapt to changing data: this is \n",
    "          called the learning rate. If you set a high learning rate, then your system  will  rapidly  adapt  to  new  \n",
    "          data,  but it  will  also  tend  to  quickly  forget  the  old data (you don’t want a spam filter to flag only \n",
    "          the latest kinds of spam it was shown).\n",
    "      \n",
    "        * Conversely, if you set a low learning rate, the system will have more inertia; that is, itwill learn more \n",
    "          slowly,but it will also be less sensitive to noise in the new data or to sequences of non representative \n",
    "          data points\n",
    "      \n",
    "        * A  big  challenge  with  online  learning  is  that  if  bad  data  is  fed  to  the  system,  the  \n",
    "          sys‐tem’s  performance  will  gradually  decline."
   ]
  },
  {
   "cell_type": "markdown",
   "metadata": {},
   "source": [
    "<b> C. Instance based vs Model based Learning"
   ]
  },
  {
   "cell_type": "markdown",
   "metadata": {},
   "source": [
    "    One  more  way  to  categorize  Machine  Learning  systems  is  by  how  they  generalize.\n",
    "\n",
    "    Most Machine Learning tasks are about making predictions. \n",
    "\n",
    "    This means that given anumber of training examples, the system needs to be able to generalize to examples it has  \n",
    "    never  seen  before"
   ]
  },
  {
   "cell_type": "markdown",
   "metadata": {},
   "source": [
    "<b>1. Instance-based learning "
   ]
  },
  {
   "cell_type": "markdown",
   "metadata": {},
   "source": [
    "    This  is  called  instance-based  learning:  the  system  learns  the  examples  by  heart,  then generalizes to \n",
    "    new cases using a similarity measure"
   ]
  },
  {
   "cell_type": "markdown",
   "metadata": {},
   "source": [
    "<b>2. Model-based learning"
   ]
  },
  {
   "cell_type": "markdown",
   "metadata": {},
   "source": [
    "    You can either define a utility function (or fitness function) that measures how goodyour model is, or you can define\n",
    "    a cost function that  measures  how  bad  it  is."
   ]
  },
  {
   "cell_type": "markdown",
   "metadata": {},
   "source": [
    "<b>II. Main Challenges of Machine Learning"
   ]
  },
  {
   "cell_type": "markdown",
   "metadata": {},
   "source": [
    "    Insufficient Quantity of Training Data\n",
    "    \n",
    "    Nonrepresentative Training Data : In order to generalize well, it is crucial that your training data be \n",
    "    representative of the new cases you want to generalize to\n",
    "    \n",
    "    Poor-Quality Data : Data with abundent errors, outliers, and noise\n",
    "    \n",
    "    Irrelevant Features\n",
    "    \n",
    "    Overfitting/Undefitting the Training Data"
   ]
  },
  {
   "cell_type": "markdown",
   "metadata": {},
   "source": [
    "<b>i. Solutions to overfitting</b>\n",
    "\n",
    "    To simplify the model by selecting one with fewer parameters(e.g.,  a  linear  model  rather  than  a  \n",
    "    high-degree  polynomialmodel by  reducing  the  number  of  attributes  in  the  training data or by \n",
    "    constraining the model)\n",
    "    \n",
    "    To gather more training data \n",
    "    \n",
    "    To  reduce  the  noise  in  the  training  data  (e.g.,  fix  data  errorsand remove outliers"
   ]
  },
  {
   "cell_type": "markdown",
   "metadata": {},
   "source": [
    "Regularization\n",
    "\n",
    "    (Constraining  a  model  to  make  it  simpler  and  reduce  the  risk  of overfitting  is  called regularization)\n",
    "\n",
    "    The amount of regularization to apply during learning can be controlled by a hyper‐parameter. A hyperparameter is  \n",
    "    a parameter of a learning algorithm (not  of  the model)\n",
    "    \n",
    "    As such, it is not affected by the learning algorithm itself; it must be set priorto training and remains \n",
    "    constant during training."
   ]
  },
  {
   "cell_type": "markdown",
   "metadata": {},
   "source": [
    "<b>ii. Solutions to underfitting"
   ]
  },
  {
   "cell_type": "markdown",
   "metadata": {},
   "source": [
    "    Selecting a more powerful model, with more parameters\n",
    "    \n",
    "    Feeding better features to the learning algorithm (feature engineering)\n",
    "    \n",
    "    Reducing  the  constraints  on  the  model  (e.g.,  reducing  the  regularization  hyper‐parameter)"
   ]
  },
  {
   "cell_type": "markdown",
   "metadata": {},
   "source": [
    "<b>III. Testing and Validating"
   ]
  },
  {
   "cell_type": "markdown",
   "metadata": {},
   "source": [
    "A better option is to split your data into two sets: the training set and the test set. \n",
    "\n",
    "    The  error  rate  on  new  cases  is  called  the  generalization  error  (or  out-of-sample error), and by \n",
    "    evaluating  your model on the test set, you get an estimation of this error. This value tells you how well \n",
    "    your model will perform on instances it has never seen before.\n",
    "    \n",
    "    If  the  training  error  is  low  (i.e.,  your  model  makes  few  mistakes  on  the  training  set) but \n",
    "    the generalization error is high, it means that your model is overfitting the train‐ing data.\n",
    "    \n",
    "    A common solution to this problem is to have a second holdout set called the valida‐tion  set.  You  train \n",
    "    multiple  models  with  various  hyperparameters  using  the  training set, you select the model and hyperparameters \n",
    "    that perform best on the validation set,and when you’re happy with your model you run a single final test against \n",
    "    the test set to get an estimate of the generalization error.\n",
    "    \n",
    "    Instead you can use cross-validation"
   ]
  },
  {
   "cell_type": "markdown",
   "metadata": {},
   "source": [
    "<h3 align='center'>Q and A"
   ]
  },
  {
   "cell_type": "markdown",
   "metadata": {},
   "source": [
    "1. What is ML ?\n",
    "        \n",
    "        Machine Learning is the science of getting computers to learn and act like humans do, and improve their \n",
    "        learning over time in autonomous fashion, by feeding them data and information in the form of observations\n",
    "        and real-world interactions\n",
    "        \n",
    "2. Difference Between parameter and Hyperparameter\n",
    "    \n",
    "        A model parameter is a configuration variable that is internal to the model and whose value can be estimated \n",
    "        from data.\n",
    "        \n",
    "            Model parameters in different models:\n",
    "\n",
    "                m(slope) and c(intercept) in Linear Regression\n",
    "                weights and biases in Neural Networks\n",
    "\n",
    "        \n",
    "        A model hyperparameter is a configuration that is external to the model and whose value cannot be estimated \n",
    "        from data\n",
    "        \n",
    "            Model hyperparameters in different models:\n",
    "\n",
    "                Learning rate in gradient descent\n",
    "                Number of iterations in gradient descent\n",
    "                Number of layers in a Neural Network\n",
    "                Number of neurons per layer in a Neural Network\n",
    "                Number of clusters(k) in k means clustering\n",
    "\n",
    "3. What do model-based learning algorithms search for?\n",
    "\n",
    "        Model-based learning algorithms search for optimal values of hyperparameters to tune the parameters in order \n",
    "        to reduce generalization error.\n",
    "\n",
    "        "
   ]
  },
  {
   "cell_type": "code",
   "execution_count": null,
   "metadata": {},
   "outputs": [],
   "source": []
  }
 ],
 "metadata": {
  "kernelspec": {
   "display_name": "Python 3",
   "language": "python",
   "name": "python3"
  },
  "language_info": {
   "codemirror_mode": {
    "name": "ipython",
    "version": 3
   },
   "file_extension": ".py",
   "mimetype": "text/x-python",
   "name": "python",
   "nbconvert_exporter": "python",
   "pygments_lexer": "ipython3",
   "version": "3.7.6"
  }
 },
 "nbformat": 4,
 "nbformat_minor": 4
}
